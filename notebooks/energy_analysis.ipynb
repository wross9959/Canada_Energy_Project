{
 "cells": [
  {
   "cell_type": "markdown",
   "metadata": {},
   "source": [
    "# Welcome this will be where all our info goes"
   ]
  },
  {
   "cell_type": "code",
   "execution_count": 12,
   "metadata": {},
   "outputs": [],
   "source": [
    "# Importing all the goodies\n",
    "\n",
    "import pandas as pd\n",
    "import numpy as np\n",
    "\n",
    "\n",
    "# ploting imports\n",
    "import matplotlib.pyplot as plt\n",
    "import seaborn as sns\n",
    "import plotly.express as px\n"
   ]
  },
  {
   "cell_type": "markdown",
   "metadata": {},
   "source": [
    "## Load data sets\n"
   ]
  },
  {
   "cell_type": "code",
   "execution_count": 13,
   "metadata": {},
   "outputs": [
    {
     "ename": "ValueError",
     "evalue": "Argument False is invalid for on_bad_lines",
     "output_type": "error",
     "traceback": [
      "\u001b[31m---------------------------------------------------------------------------\u001b[39m",
      "\u001b[31mValueError\u001b[39m                                Traceback (most recent call last)",
      "\u001b[36mCell\u001b[39m\u001b[36m \u001b[39m\u001b[32mIn[13]\u001b[39m\u001b[32m, line 6\u001b[39m\n\u001b[32m      1\u001b[39m \u001b[38;5;66;03m# ---------------------------------------------\u001b[39;00m\n\u001b[32m      2\u001b[39m \u001b[38;5;66;03m# 🧭 DATA LOADING SECTION\u001b[39;00m\n\u001b[32m      3\u001b[39m \u001b[38;5;66;03m# ---------------------------------------------\u001b[39;00m\n\u001b[32m      4\u001b[39m \n\u001b[32m      5\u001b[39m \u001b[38;5;66;03m# 📊 Population by province/year\u001b[39;00m\n\u001b[32m----> \u001b[39m\u001b[32m6\u001b[39m population_df = \u001b[43mpd\u001b[49m\u001b[43m.\u001b[49m\u001b[43mread_csv\u001b[49m\u001b[43m(\u001b[49m\u001b[33;43m\"\u001b[39;49m\u001b[33;43m../data/population.csv\u001b[39;49m\u001b[33;43m\"\u001b[39;49m\u001b[43m,\u001b[49m\u001b[43m \u001b[49m\u001b[43msep\u001b[49m\u001b[43m=\u001b[49m\u001b[33;43m\"\u001b[39;49m\u001b[33;43m,\u001b[39;49m\u001b[33;43m\"\u001b[39;49m\u001b[43m,\u001b[49m\u001b[43m \u001b[49m\u001b[43mengine\u001b[49m\u001b[43m=\u001b[49m\u001b[33;43m\"\u001b[39;49m\u001b[33;43mpython\u001b[39;49m\u001b[33;43m\"\u001b[39;49m\u001b[43m,\u001b[49m\u001b[43m \u001b[49m\u001b[43mon_bad_lines\u001b[49m\u001b[43m=\u001b[49m\u001b[38;5;28;43;01mFalse\u001b[39;49;00m\u001b[43m)\u001b[49m\n\u001b[32m      7\u001b[39m \u001b[38;5;66;03m# ⚡ Electricity generation by source (GWh)\u001b[39;00m\n\u001b[32m      8\u001b[39m generation_df = pd.read_excel(\u001b[33m\"\u001b[39m\u001b[33m../data/Electricity_Generation.xlsx\u001b[39m\u001b[33m\"\u001b[39m)\n",
      "\u001b[36mFile \u001b[39m\u001b[32m~/School/W2025/Cs2545_W2025/Projects/Canada_Energy_Project/.venv/lib/python3.13/site-packages/pandas/io/parsers/readers.py:1013\u001b[39m, in \u001b[36mread_csv\u001b[39m\u001b[34m(filepath_or_buffer, sep, delimiter, header, names, index_col, usecols, dtype, engine, converters, true_values, false_values, skipinitialspace, skiprows, skipfooter, nrows, na_values, keep_default_na, na_filter, verbose, skip_blank_lines, parse_dates, infer_datetime_format, keep_date_col, date_parser, date_format, dayfirst, cache_dates, iterator, chunksize, compression, thousands, decimal, lineterminator, quotechar, quoting, doublequote, escapechar, comment, encoding, encoding_errors, dialect, on_bad_lines, delim_whitespace, low_memory, memory_map, float_precision, storage_options, dtype_backend)\u001b[39m\n\u001b[32m   1010\u001b[39m \u001b[38;5;28;01mdel\u001b[39;00m kwds[\u001b[33m\"\u001b[39m\u001b[33mfilepath_or_buffer\u001b[39m\u001b[33m\"\u001b[39m]\n\u001b[32m   1011\u001b[39m \u001b[38;5;28;01mdel\u001b[39;00m kwds[\u001b[33m\"\u001b[39m\u001b[33msep\u001b[39m\u001b[33m\"\u001b[39m]\n\u001b[32m-> \u001b[39m\u001b[32m1013\u001b[39m kwds_defaults = \u001b[43m_refine_defaults_read\u001b[49m\u001b[43m(\u001b[49m\n\u001b[32m   1014\u001b[39m \u001b[43m    \u001b[49m\u001b[43mdialect\u001b[49m\u001b[43m,\u001b[49m\n\u001b[32m   1015\u001b[39m \u001b[43m    \u001b[49m\u001b[43mdelimiter\u001b[49m\u001b[43m,\u001b[49m\n\u001b[32m   1016\u001b[39m \u001b[43m    \u001b[49m\u001b[43mdelim_whitespace\u001b[49m\u001b[43m,\u001b[49m\n\u001b[32m   1017\u001b[39m \u001b[43m    \u001b[49m\u001b[43mengine\u001b[49m\u001b[43m,\u001b[49m\n\u001b[32m   1018\u001b[39m \u001b[43m    \u001b[49m\u001b[43msep\u001b[49m\u001b[43m,\u001b[49m\n\u001b[32m   1019\u001b[39m \u001b[43m    \u001b[49m\u001b[43mon_bad_lines\u001b[49m\u001b[43m,\u001b[49m\n\u001b[32m   1020\u001b[39m \u001b[43m    \u001b[49m\u001b[43mnames\u001b[49m\u001b[43m,\u001b[49m\n\u001b[32m   1021\u001b[39m \u001b[43m    \u001b[49m\u001b[43mdefaults\u001b[49m\u001b[43m=\u001b[49m\u001b[43m{\u001b[49m\u001b[33;43m\"\u001b[39;49m\u001b[33;43mdelimiter\u001b[39;49m\u001b[33;43m\"\u001b[39;49m\u001b[43m:\u001b[49m\u001b[43m \u001b[49m\u001b[33;43m\"\u001b[39;49m\u001b[33;43m,\u001b[39;49m\u001b[33;43m\"\u001b[39;49m\u001b[43m}\u001b[49m\u001b[43m,\u001b[49m\n\u001b[32m   1022\u001b[39m \u001b[43m    \u001b[49m\u001b[43mdtype_backend\u001b[49m\u001b[43m=\u001b[49m\u001b[43mdtype_backend\u001b[49m\u001b[43m,\u001b[49m\n\u001b[32m   1023\u001b[39m \u001b[43m\u001b[49m\u001b[43m)\u001b[49m\n\u001b[32m   1024\u001b[39m kwds.update(kwds_defaults)\n\u001b[32m   1026\u001b[39m \u001b[38;5;28;01mreturn\u001b[39;00m _read(filepath_or_buffer, kwds)\n",
      "\u001b[36mFile \u001b[39m\u001b[32m~/School/W2025/Cs2545_W2025/Projects/Canada_Energy_Project/.venv/lib/python3.13/site-packages/pandas/io/parsers/readers.py:2258\u001b[39m, in \u001b[36m_refine_defaults_read\u001b[39m\u001b[34m(dialect, delimiter, delim_whitespace, engine, sep, on_bad_lines, names, defaults, dtype_backend)\u001b[39m\n\u001b[32m   2256\u001b[39m     kwds[\u001b[33m\"\u001b[39m\u001b[33mon_bad_lines\u001b[39m\u001b[33m\"\u001b[39m] = on_bad_lines\n\u001b[32m   2257\u001b[39m \u001b[38;5;28;01melse\u001b[39;00m:\n\u001b[32m-> \u001b[39m\u001b[32m2258\u001b[39m     \u001b[38;5;28;01mraise\u001b[39;00m \u001b[38;5;167;01mValueError\u001b[39;00m(\u001b[33mf\u001b[39m\u001b[33m\"\u001b[39m\u001b[33mArgument \u001b[39m\u001b[38;5;132;01m{\u001b[39;00mon_bad_lines\u001b[38;5;132;01m}\u001b[39;00m\u001b[33m is invalid for on_bad_lines\u001b[39m\u001b[33m\"\u001b[39m)\n\u001b[32m   2260\u001b[39m check_dtype_backend(dtype_backend)\n\u001b[32m   2262\u001b[39m kwds[\u001b[33m\"\u001b[39m\u001b[33mdtype_backend\u001b[39m\u001b[33m\"\u001b[39m] = dtype_backend\n",
      "\u001b[31mValueError\u001b[39m: Argument False is invalid for on_bad_lines"
     ]
    }
   ],
   "source": [
    "# ---------------------------------------------\n",
    "# 🧭 DATA LOADING SECTION\n",
    "# ---------------------------------------------\n",
    "\n",
    "# 📊 Population by province/year\n",
    "population_df = pd.read_csv(\"../data/population.csv\", sep=\",\", engine=\"python\", on_bad_lines=False)\n",
    "# ⚡ Electricity generation by source (GWh)\n",
    "generation_df = pd.read_excel(\"../data/Electricity_Generation.xlsx\")\n",
    "\n",
    "# 🔁 Interprovincial electricity transfers\n",
    "interchange_df = pd.read_excel(\"../data/Electricity_Interchange.xlsx\")\n",
    "\n",
    "# ⚙️ Installed electricity capacity (MW)\n",
    "capacity_df = pd.read_excel(\"../data/Electricity_Capacity.xlsx\")\n",
    "\n",
    "# 🔌 End use electricity demand by sector\n",
    "demand_df = pd.read_excel(\"../data/End_Use_Demand.xlsx\")\n",
    "\n",
    "# 💵 Electricity prices by province (Residential, ¢/GJ)\n",
    "prices_df = pd.read_excel(\"../data/End_Use_Prices.xlsx\")\n",
    "\n",
    "# 🌍 Trade data - imports/exports by province and U.S.\n",
    "trade_df = pd.read_excel(\"../data/energy_trade_canada.xlsx\")\n",
    "\n",
    "# 🌤️ Climate averages (temperature, wind, precipitation)\n",
    "climate_df = pd.read_csv(\"../data/1991-2020_Canadian_Climate_Normals_CANADA_Data.csv\")\n"
   ]
  },
  {
   "cell_type": "markdown",
   "metadata": {},
   "source": [
    "# Clean Data"
   ]
  },
  {
   "cell_type": "code",
   "execution_count": null,
   "metadata": {},
   "outputs": [],
   "source": [
    "print(\"✅ Datasets Loaded:\")\n",
    "print(f\"Population:         {population_df.shape}\")\n",
    "print(f\"Generation:         {generation_df.shape}\")\n",
    "print(f\"Interchange:        {interchange_df.shape}\")\n",
    "print(f\"Capacity:           {capacity_df.shape}\")\n",
    "print(f\"Demand:             {demand_df.shape}\")\n",
    "print(f\"Prices:             {prices_df.shape}\")\n",
    "print(f\"Trade:              {trade_df.shape}\")\n",
    "print(f\"Climate:            {climate_df.shape}\")\n",
    "\n",
    "# Optional: Preview top 2 rows from each key dataset\n",
    "print(\"\\n🔍 Preview - Population\")\n",
    "display(population_df.head(2))\n",
    "\n",
    "print(\"\\n🔍 Preview - Electricity Generation\")\n",
    "display(generation_df.head(2))\n",
    "\n",
    "print(\"\\n🔍 Preview - Climate Data\")\n",
    "display(climate_df.head(2))\n"
   ]
  }
 ],
 "metadata": {
  "kernelspec": {
   "display_name": ".venv",
   "language": "python",
   "name": "python3"
  },
  "language_info": {
   "codemirror_mode": {
    "name": "ipython",
    "version": 3
   },
   "file_extension": ".py",
   "mimetype": "text/x-python",
   "name": "python",
   "nbconvert_exporter": "python",
   "pygments_lexer": "ipython3",
   "version": "3.13.1"
  }
 },
 "nbformat": 4,
 "nbformat_minor": 2
}
