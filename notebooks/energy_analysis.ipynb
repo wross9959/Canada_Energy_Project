{
 "cells": [
  {
   "cell_type": "markdown",
   "metadata": {},
   "source": [
    "# CS2545 - Term Mini-Project\n",
    "\n",
    "### CS2545 - Data Science ###\n",
    "### Winter, 2025 ###\n",
    "### UNB, Fredericton ###\n",
    "\n",
    "Refer to the read me for more details on the project.\n",
    "</br>\n",
    "</br>\n",
    "</br>"
   ]
  },
  {
   "cell_type": "markdown",
   "metadata": {},
   "source": [
    "### Import Libraries & Save File paths for data"
   ]
  },
  {
   "cell_type": "code",
   "execution_count": 14,
   "metadata": {},
   "outputs": [],
   "source": [
    "# Importing all the goodies\n",
    "import pandas as pd\n",
    "import numpy as np\n",
    "\n",
    "\n",
    "# ploting imports\n",
    "import matplotlib.pyplot as plt\n",
    "import seaborn as sns\n",
    "import plotly.express as px\n",
    "import openpyxl as pxl\n",
    "\n",
    "\n",
    "# All Data to import using dataframes\n",
    "population_Data_Path = \"../data/population.csv\"\n",
    "Electricity_Generation_Data_Path = \"../data/Electricity_Generation.xlsx\"\n",
    "Electricity_Interchange_Data_Path = \"../data/Electricity_Interchange.xlsx\"\n",
    "Electricity_Capacity_Data_Path = \"../data/Electricity_Capacity.xlsx\"\n",
    "End_Use_Demand_Data_Path = \"../data/End_Use_Demand.xlsx\"\n",
    "End_Use_Prices_Data_Path = \"../data/End_Use_Prices.xlsx\"\n",
    "energy_trade_canada_path = \"../data/energy_trade_canada.xls\"\n",
    "Canadian_Climate_Normals_CANADA_Data_Path = \"../data/1991-2020_Canadian_Climate_Normals_CANADA_Data.csv\""
   ]
  },
  {
   "cell_type": "markdown",
   "metadata": {},
   "source": [
    "### Power Generation Data Set Cleaning "
   ]
  },
  {
   "cell_type": "code",
   "execution_count": 15,
   "metadata": {},
   "outputs": [],
   "source": [
    "generation_df = pd.read_excel(Electricity_Generation_Data_Path)\n",
    "\n",
    "def clean_generation(df, start_row, province_name, num_rows = 8):\n",
    "\n",
    "    header_row = start_row + 1\n",
    "    data_rows = start_row + 2\n",
    "\n",
    "    headers = df.iloc[header_row]\n",
    "    block = df.iloc[data_rows : data_rows + num_rows].copy()\n",
    "    block.columns = headers\n",
    "\n",
    "    block = block.dropna(subset=[block.columns[0]])\n",
    "\n",
    "    block = block.rename(columns={block.columns[0]: \"Energy_Type\"})\n",
    "    block = block.melt(id_vars=\"Energy_Type\", var_name=\"Year\", value_name=\"GWh\")\n",
    "\n",
    "    block[\"Province\"] = province_name\n",
    "    block[\"Year\"] = pd.to_numeric(block[\"Year\"], errors=\"coerce\")\n",
    "    block[\"GWh\"] = pd.to_numeric(block[\"GWh\"], errors=\"coerce\")\n",
    "\n",
    "    block = block.dropna(subset=[\"Year\", \"GWh\"])\n",
    "    block[\"Year\"] = block[\"Year\"].astype(int)\n",
    "\n",
    "    return block\n",
    "\n",
    "provinces_generation = {\n",
    "    \"Canada\": 5,\n",
    "    \"Newfoundland and Labrador\": 16,\n",
    "    \"Prince Edward Island\": 27,\n",
    "    \"Nova Scotia\": 38,\n",
    "    \"New Brunswick\": 49,\n",
    "    \"Quebec\": 60,\n",
    "    \"Ontario\": 71,\n",
    "    \"Manitoba\": 82,\n",
    "    \"Alberta\": 93,\n",
    "    \"British Columbia\": 104,\n",
    "    \"Saskatchewan\": 115,\n",
    "    \"Yukon\": 126,\n",
    "    \"Northwest Territories\": 137,\n",
    "    \"Nunavut\": 148,\n",
    "}\n",
    "\n",
    "all_province_data = []\n",
    "\n",
    "for province, start_row in provinces_generation.items():\n",
    "    cleaned = clean_generation(generation_df, start_row, province)\n",
    "    all_province_data.append(cleaned)\n",
    "\n",
    "\n",
    "gen_clean = pd.concat(all_province_data, ignore_index=True)\n",
    "quebec_df = gen_clean[gen_clean[\"Province\"] == \"Canada\"]\n",
    "\n",
    "\n",
    "\n"
   ]
  },
  {
   "cell_type": "markdown",
   "metadata": {},
   "source": [
    "### Power Capacity Data Set Cleaning"
   ]
  },
  {
   "cell_type": "code",
   "execution_count": 16,
   "metadata": {},
   "outputs": [],
   "source": [
    "# Im using the same function from generation data\n",
    "capacity_df = pd.read_excel(Electricity_Capacity_Data_Path)\n",
    "\n",
    "provinces_cap = {\n",
    "    \"Canada\": 5,\n",
    "    \"Newfoundland and Labrador\": 16,\n",
    "    \"Prince Edward Island\": 27,\n",
    "    \"Nova Scotia\": 38,\n",
    "    \"New Brunswick\": 49,\n",
    "    \"Quebec\": 60,\n",
    "    \"Ontario\": 71,\n",
    "    \"Manitoba\": 82,\n",
    "    \"Alberta\": 93,\n",
    "    \"British Columbia\": 104,\n",
    "    \"Saskatchewan\": 115,\n",
    "    \"Yukon\": 126,\n",
    "    \"Northwest Territories\": 137,\n",
    "    \"Nunavut\": 148,\n",
    "}\n",
    "\n",
    "all_province_cap_data = []\n",
    "for province, start_row in provinces_cap.items():\n",
    "    cap_cleaned = clean_generation(capacity_df, start_row, province)\n",
    "    all_province_cap_data.append(cap_cleaned)\n",
    "\n",
    "cap_clean = pd.concat(all_province_cap_data, ignore_index=True)\n",
    "# cap_clean"
   ]
  },
  {
   "cell_type": "markdown",
   "metadata": {},
   "source": [
    "### Power Interchange Data Set Cleaning"
   ]
  },
  {
   "cell_type": "code",
   "execution_count": 17,
   "metadata": {},
   "outputs": [],
   "source": [
    "# Im gonna reuse the same function as well\n",
    "interchange_df = pd.read_excel(Electricity_Interchange_Data_Path)\n",
    "provinces_interchange = {\n",
    "    \"Canada\": 5,\n",
    "    \"Newfoundland and Labrador\": 14,\n",
    "    \"Prince Edward Island\": 23,\n",
    "    \"Nova Scotia\": 32,\n",
    "    \"New Brunswick\": 41,\n",
    "    \"Quebec\": 50,\n",
    "    \"Ontario\": 59,\n",
    "    \"Manitoba\": 68,\n",
    "    \"Alberta\": 77,\n",
    "    \"British Columbia\": 86,\n",
    "    \"Saskatchewan\": 95,\n",
    "}\n",
    "\n",
    "all_province_interchange_data = []\n",
    "for province, start_row in provinces_interchange.items():\n",
    "    clean_interchange_block = clean_generation(interchange_df, start_row, province)\n",
    "    all_province_interchange_data.append(clean_interchange_block)\n",
    "\n",
    "interchange_clean = pd.concat(all_province_interchange_data, ignore_index=True)\n",
    "# display(interchange_clean)\n",
    "\n",
    "\n"
   ]
  },
  {
   "cell_type": "markdown",
   "metadata": {},
   "source": [
    "### End use demand data set cleaning"
   ]
  },
  {
   "cell_type": "code",
   "execution_count": 18,
   "metadata": {},
   "outputs": [],
   "source": [
    "demand_df = pd.read_excel(End_Use_Demand_Data_Path)\n",
    "\n",
    "def clean_end_use_demand(df, sector_blocks, num_rows=7):\n",
    "    all_sectors = []\n",
    "\n",
    "    for sector, start_row in sector_blocks.items():\n",
    "        header_row = start_row + 1\n",
    "        data_start = start_row + 2\n",
    "\n",
    "        headers = df.iloc[header_row]\n",
    "        block = df.iloc[data_start : data_start + num_rows].copy()\n",
    "        block.columns = headers\n",
    "\n",
    "        block = block.dropna(subset=[block.columns[0]])\n",
    "        block = block.rename(columns={block.columns[0]: \"Energy_Type\"})\n",
    "\n",
    "        block = block.melt(id_vars=\"Energy_Type\", var_name=\"Year\", value_name=\"PJ\")\n",
    "        block[\"Sector\"] = sector\n",
    "        block[\"Year\"] = pd.to_numeric(block[\"Year\"], errors=\"coerce\")\n",
    "        block[\"PJ\"] = pd.to_numeric(block[\"PJ\"], errors=\"coerce\")\n",
    "\n",
    "        block = block.dropna(subset=[\"Year\", \"PJ\"])\n",
    "        block[\"Year\"] = block[\"Year\"].astype(int)\n",
    "\n",
    "        all_sectors.append(block)\n",
    "\n",
    "    return pd.concat(all_sectors, ignore_index=True)\n",
    "\n",
    "\n",
    "sector_blocks = {\n",
    "    \"Total End-Use\": 5,\n",
    "    \"Residential\": 14,\n",
    "    \"Commercial\": 23,\n",
    "    \"Industrial\": 32,\n",
    "    \"Transportation\": 41\n",
    "}\n",
    "demand_clean = clean_end_use_demand(demand_df, sector_blocks)\n",
    "# display(demand_clean)\n",
    "\n"
   ]
  },
  {
   "cell_type": "markdown",
   "metadata": {},
   "source": [
    "### End use Price data set cleaning"
   ]
  },
  {
   "cell_type": "code",
   "execution_count": 19,
   "metadata": {},
   "outputs": [],
   "source": [
    "prices_df = pd.read_excel(End_Use_Prices_Data_Path)\n",
    "\n",
    "prices_provinces = {\n",
    "    \"Newfoundland and Labrador\": 5,\n",
    "    \"Prince Edward Island\": 11,\n",
    "    \"Nova Scotia\": 17,\n",
    "    \"New Brunswick\": 23,\n",
    "    \"Quebec\": 29,\n",
    "    \"Ontario\": 35,\n",
    "    \"Manitoba\": 41,\n",
    "    \"Alberta\": 47,\n",
    "    \"British Columbia\": 53,\n",
    "    \"Saskatchewan\": 59,\n",
    "    \"Yukon\": 65,\n",
    "    \"Northwest Territories\": 71,\n",
    "    \"Nunavut\": 77,\n",
    "}\n",
    "\n",
    "\n",
    "all_province_price_data = []\n",
    "\n",
    "for province, start_row in prices_provinces.items():\n",
    "    clean_block = clean_generation(prices_df, start_row, province, num_rows=3)\n",
    "    all_province_price_data.append(clean_block)\n",
    "\n",
    "prices_clean = pd.concat(all_province_price_data, ignore_index=True)\n",
    "# display(prices_clean)"
   ]
  },
  {
   "cell_type": "markdown",
   "metadata": {},
   "source": [
    "### Climate Data Cleaning Function"
   ]
  },
  {
   "cell_type": "code",
   "execution_count": 20,
   "metadata": {},
   "outputs": [],
   "source": [
    "climate_df = pd.read_csv(Canadian_Climate_Normals_CANADA_Data_Path, sep=\",\")\n",
    "\n",
    "def clean_climate_data(df):\n",
    "\n",
    "    df.columns = df.columns.str.strip()\n",
    "    df_yearly = df.copy()\n",
    "    df_yearly = df_yearly.rename(columns={\n",
    "        \"LOCATION_NAME\": \"Location\",\n",
    "        \"PROVINCE_OR_TERRITORY\": \"Province\",\n",
    "        \"NORMALS_ELEMENT\": \"Element\",\n",
    "        \"Year\": \"Value\"\n",
    "    })\n",
    "\n",
    "    df_yearly[\"Value\"] = pd.to_numeric(df_yearly[\"Value\"], errors=\"coerce\")\n",
    "    df_yearly = df_yearly.dropna(subset=[\"Value\"])\n",
    "\n",
    "    df_yearly = df_yearly[~df_yearly[\"Element\"].str.contains(\"Date|StdDev|Extreme\", na=False)]\n",
    "\n",
    "    return df_yearly[[\"Location\", \"Province\", \"PERIOD_OF_RECORD\", \"ELEMENT_GROUP\", \"Element\", \"Value\"]]\n",
    "\n",
    "\n",
    "climate_clean = clean_climate_data(climate_df)\n",
    "\n",
    "\n"
   ]
  },
  {
   "cell_type": "markdown",
   "metadata": {},
   "source": [
    "### Population Data Set Cleaning"
   ]
  },
  {
   "cell_type": "code",
   "execution_count": null,
   "metadata": {},
   "outputs": [],
   "source": [
    "\n",
    "def clean_population_database_format(filepath):\n",
    "\n",
    "\n",
    "    df = pd.read_csv(filepath)\n",
    "\n",
    "    df = df[[\"REF_DATE\", \"GEO\", \"VALUE\"]].rename(columns={\n",
    "        \"REF_DATE\": \"Date\",\n",
    "        \"GEO\": \"Province\",\n",
    "        \"VALUE\": \"Population\"\n",
    "    })\n",
    "\n",
    "    df = df.dropna(subset=[\"Population\"])\n",
    "\n",
    "    df[\"Date\"] = pd.to_datetime(df[\"Date\"])\n",
    "    df[\"Year\"] = df[\"Date\"].dt.year\n",
    "\n",
    "    df_yearly = (\n",
    "        df.groupby([\"Province\", \"Year\"], as_index=False)\n",
    "        .agg({\"Population\": \"mean\"})\n",
    "    )\n",
    "\n",
    "    return df_yearly\n",
    "\n",
    "population_yearly_df = clean_population_database_format(population_Data_Path)\n",
    "population_yearly_df\n",
    "\n",
    "\n",
    "\n"
   ]
  }
 ],
 "metadata": {
  "kernelspec": {
   "display_name": ".venv",
   "language": "python",
   "name": "python3"
  },
  "language_info": {
   "codemirror_mode": {
    "name": "ipython",
    "version": 3
   },
   "file_extension": ".py",
   "mimetype": "text/x-python",
   "name": "python",
   "nbconvert_exporter": "python",
   "pygments_lexer": "ipython3",
   "version": "3.13.1"
  }
 },
 "nbformat": 4,
 "nbformat_minor": 2
}
