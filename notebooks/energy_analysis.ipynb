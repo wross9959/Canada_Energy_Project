{
 "cells": [
  {
   "cell_type": "markdown",
   "metadata": {},
   "source": [
    "# Welcome this will be where all our info goes"
   ]
  },
  {
   "cell_type": "code",
   "execution_count": 236,
   "metadata": {},
   "outputs": [],
   "source": [
    "# Importing all the goodies\n",
    "import pandas as pd\n",
    "import numpy as np\n",
    "\n",
    "\n",
    "# ploting imports\n",
    "import matplotlib.pyplot as plt\n",
    "import seaborn as sns\n",
    "import plotly.express as px\n",
    "import openpyxl as pxl\n",
    "\n",
    "\n",
    "# All Data to import using dataframes\n",
    "population_Data_Path = \"../data/population.csv\"\n",
    "Electricity_Generation_Data_Path = \"../data/Electricity_Generation.xlsx\"\n",
    "Electricity_Interchange_Data_Path = \"../data/Electricity_Interchange.xlsx\"\n",
    "Electricity_Capacity_Data_Path = \"../data/Electricity_Capacity.xlsx\"\n",
    "End_Use_Demand_Data_Path = \"../data/End_Use_Demand.xlsx\"\n",
    "End_Use_Prices_Data_Path = \"../data/End_Use_Prices.xlsx\"\n",
    "energy_trade_canada_path = \"../data/energy_trade_canada.xls\"\n",
    "Canadian_Climate_Normals_CANADA_Data_Path = \"../data/1991-2020_Canadian_Climate_Normals_CANADA_Data.csv\""
   ]
  },
  {
   "cell_type": "markdown",
   "metadata": {},
   "source": [
    "## Load data sets\n"
   ]
  },
  {
   "cell_type": "code",
   "execution_count": 237,
   "metadata": {},
   "outputs": [],
   "source": [
    "\n",
    "\n",
    "\n",
    "# CSV files\n",
    "population_df = pd.read_csv(population_Data_Path, sep=\",\", skiprows=3, header=0, engine=\"python\", quotechar='\"', on_bad_lines=\"skip\")\n",
    "climate_df = pd.read_csv(Canadian_Climate_Normals_CANADA_Data_Path, sep=\",\")\n",
    "\n",
    "# # Excel Files\n",
    "generation_df = pd.read_excel(Electricity_Generation_Data_Path)\n",
    "capacity_df = pd.read_excel(Electricity_Capacity_Data_Path)\n",
    "interchange_df = pd.read_excel(Electricity_Interchange_Data_Path)\n",
    "demand_df = pd.read_excel(End_Use_Demand_Data_Path)\n",
    "prices_df = pd.read_excel(End_Use_Prices_Data_Path)\n",
    "# prtrade_df = pd.read_excel(energy_trade_canada_path)\n",
    "\n",
    "\n",
    "dataframes = {\n",
    "    \"Population\": population_df,\n",
    "    \"Generation\": generation_df,\n",
    "    \"Capacity\": capacity_df,\n",
    "    \"Interchange\": interchange_df,\n",
    "    \"Demand\": demand_df,\n",
    "    \"Prices\": prices_df,\n",
    "    \"Climate\": climate_df\n",
    "}\n",
    "\n",
    "\n",
    "\n"
   ]
  },
  {
   "cell_type": "markdown",
   "metadata": {},
   "source": [
    "### Power Generation Data Set Cleaning "
   ]
  },
  {
   "cell_type": "code",
   "execution_count": 238,
   "metadata": {},
   "outputs": [
    {
     "data": {
      "application/vnd.microsoft.datawrangler.viewer.v0+json": {
       "columns": [
        {
         "name": "index",
         "rawType": "int64",
         "type": "integer"
        },
        {
         "name": "Energy_Type",
         "rawType": "object",
         "type": "string"
        },
        {
         "name": "Year",
         "rawType": "int64",
         "type": "integer"
        },
        {
         "name": "GWh",
         "rawType": "float64",
         "type": "float"
        },
        {
         "name": "Province",
         "rawType": "object",
         "type": "string"
        }
       ],
       "conversionMethod": "pd.DataFrame",
       "ref": "273b53e3-8c05-4443-a824-9f54755d980e",
       "rows": [
        [
         "0",
         "Hydro / Wave / Tidal",
         "2005",
         "358380.8",
         "Canada"
        ],
        [
         "1",
         "Wind",
         "2005",
         "1453.41",
         "Canada"
        ],
        [
         "2",
         "Biomass / Geothermal",
         "2005",
         "6997.43",
         "Canada"
        ],
        [
         "3",
         "Solar",
         "2005",
         "0.0",
         "Canada"
        ],
        [
         "4",
         "Uranium",
         "2005",
         "86668.58",
         "Canada"
        ],
        [
         "5",
         "Coal & Coke",
         "2005",
         "97362.16",
         "Canada"
        ],
        [
         "6",
         "Natural Gas",
         "2005",
         "40015.8",
         "Canada"
        ],
        [
         "7",
         "Oil",
         "2005",
         "8193.96",
         "Canada"
        ],
        [
         "8",
         "Hydro / Wave / Tidal",
         "2006",
         "349124.5",
         "Canada"
        ],
        [
         "9",
         "Wind",
         "2006",
         "2529.41",
         "Canada"
        ],
        [
         "10",
         "Biomass / Geothermal",
         "2006",
         "7143.38",
         "Canada"
        ],
        [
         "11",
         "Solar",
         "2006",
         "0.0",
         "Canada"
        ],
        [
         "12",
         "Uranium",
         "2006",
         "92144.58",
         "Canada"
        ],
        [
         "13",
         "Coal & Coke",
         "2006",
         "92204.69",
         "Canada"
        ],
        [
         "14",
         "Natural Gas",
         "2006",
         "43057.99",
         "Canada"
        ],
        [
         "15",
         "Oil",
         "2006",
         "7877.58",
         "Canada"
        ],
        [
         "16",
         "Hydro / Wave / Tidal",
         "2007",
         "363798.5",
         "Canada"
        ],
        [
         "17",
         "Wind",
         "2007",
         "3683.41",
         "Canada"
        ],
        [
         "18",
         "Biomass / Geothermal",
         "2007",
         "6971.02",
         "Canada"
        ],
        [
         "19",
         "Solar",
         "2007",
         "0.0",
         "Canada"
        ],
        [
         "20",
         "Uranium",
         "2007",
         "88190.58",
         "Canada"
        ],
        [
         "21",
         "Coal & Coke",
         "2007",
         "97287.24",
         "Canada"
        ],
        [
         "22",
         "Natural Gas",
         "2007",
         "47278.59",
         "Canada"
        ],
        [
         "23",
         "Oil",
         "2007",
         "8776.76",
         "Canada"
        ],
        [
         "24",
         "Hydro / Wave / Tidal",
         "2008",
         "373817.3",
         "Canada"
        ],
        [
         "25",
         "Wind",
         "2008",
         "4715.44",
         "Canada"
        ],
        [
         "26",
         "Biomass / Geothermal",
         "2008",
         "6319.81",
         "Canada"
        ],
        [
         "27",
         "Solar",
         "2008",
         "0.0",
         "Canada"
        ],
        [
         "28",
         "Uranium",
         "2008",
         "90585.23",
         "Canada"
        ],
        [
         "29",
         "Coal & Coke",
         "2008",
         "91097.93",
         "Canada"
        ],
        [
         "30",
         "Natural Gas",
         "2008",
         "43912.88",
         "Canada"
        ],
        [
         "31",
         "Oil",
         "2008",
         "6929.51",
         "Canada"
        ],
        [
         "32",
         "Hydro / Wave / Tidal",
         "2009",
         "365011.8",
         "Canada"
        ],
        [
         "33",
         "Wind",
         "2009",
         "7031.23",
         "Canada"
        ],
        [
         "34",
         "Biomass / Geothermal",
         "2009",
         "6057.39",
         "Canada"
        ],
        [
         "35",
         "Solar",
         "2009",
         "5.0",
         "Canada"
        ],
        [
         "36",
         "Uranium",
         "2009",
         "84992.27",
         "Canada"
        ],
        [
         "37",
         "Coal & Coke",
         "2009",
         "76661.64",
         "Canada"
        ],
        [
         "38",
         "Natural Gas",
         "2009",
         "42619.74",
         "Canada"
        ],
        [
         "39",
         "Oil",
         "2009",
         "7336.52",
         "Canada"
        ],
        [
         "40",
         "Hydro / Wave / Tidal",
         "2010",
         "347937.5",
         "Canada"
        ],
        [
         "41",
         "Wind",
         "2010",
         "8354.23",
         "Canada"
        ],
        [
         "42",
         "Biomass / Geothermal",
         "2010",
         "8266.52",
         "Canada"
        ],
        [
         "43",
         "Solar",
         "2010",
         "123.0",
         "Canada"
        ],
        [
         "44",
         "Uranium",
         "2010",
         "85526.59",
         "Canada"
        ],
        [
         "45",
         "Coal & Coke",
         "2010",
         "71258.57",
         "Canada"
        ],
        [
         "46",
         "Natural Gas",
         "2010",
         "54093.18",
         "Canada"
        ],
        [
         "47",
         "Oil",
         "2010",
         "5187.67",
         "Canada"
        ],
        [
         "48",
         "Hydro / Wave / Tidal",
         "2011",
         "371953.2",
         "Canada"
        ],
        [
         "49",
         "Wind",
         "2011",
         "11622.99",
         "Canada"
        ]
       ],
       "shape": {
        "columns": 4,
        "rows": 368
       }
      },
      "text/html": [
       "<div>\n",
       "<style scoped>\n",
       "    .dataframe tbody tr th:only-of-type {\n",
       "        vertical-align: middle;\n",
       "    }\n",
       "\n",
       "    .dataframe tbody tr th {\n",
       "        vertical-align: top;\n",
       "    }\n",
       "\n",
       "    .dataframe thead th {\n",
       "        text-align: right;\n",
       "    }\n",
       "</style>\n",
       "<table border=\"1\" class=\"dataframe\">\n",
       "  <thead>\n",
       "    <tr style=\"text-align: right;\">\n",
       "      <th></th>\n",
       "      <th>Energy_Type</th>\n",
       "      <th>Year</th>\n",
       "      <th>GWh</th>\n",
       "      <th>Province</th>\n",
       "    </tr>\n",
       "  </thead>\n",
       "  <tbody>\n",
       "    <tr>\n",
       "      <th>0</th>\n",
       "      <td>Hydro / Wave / Tidal</td>\n",
       "      <td>2005</td>\n",
       "      <td>358380.80</td>\n",
       "      <td>Canada</td>\n",
       "    </tr>\n",
       "    <tr>\n",
       "      <th>1</th>\n",
       "      <td>Wind</td>\n",
       "      <td>2005</td>\n",
       "      <td>1453.41</td>\n",
       "      <td>Canada</td>\n",
       "    </tr>\n",
       "    <tr>\n",
       "      <th>2</th>\n",
       "      <td>Biomass / Geothermal</td>\n",
       "      <td>2005</td>\n",
       "      <td>6997.43</td>\n",
       "      <td>Canada</td>\n",
       "    </tr>\n",
       "    <tr>\n",
       "      <th>3</th>\n",
       "      <td>Solar</td>\n",
       "      <td>2005</td>\n",
       "      <td>0.00</td>\n",
       "      <td>Canada</td>\n",
       "    </tr>\n",
       "    <tr>\n",
       "      <th>4</th>\n",
       "      <td>Uranium</td>\n",
       "      <td>2005</td>\n",
       "      <td>86668.58</td>\n",
       "      <td>Canada</td>\n",
       "    </tr>\n",
       "    <tr>\n",
       "      <th>...</th>\n",
       "      <td>...</td>\n",
       "      <td>...</td>\n",
       "      <td>...</td>\n",
       "      <td>...</td>\n",
       "    </tr>\n",
       "    <tr>\n",
       "      <th>363</th>\n",
       "      <td>Solar</td>\n",
       "      <td>2050</td>\n",
       "      <td>62977.35</td>\n",
       "      <td>Canada</td>\n",
       "    </tr>\n",
       "    <tr>\n",
       "      <th>364</th>\n",
       "      <td>Uranium</td>\n",
       "      <td>2050</td>\n",
       "      <td>87524.19</td>\n",
       "      <td>Canada</td>\n",
       "    </tr>\n",
       "    <tr>\n",
       "      <th>365</th>\n",
       "      <td>Coal &amp; Coke</td>\n",
       "      <td>2050</td>\n",
       "      <td>656.02</td>\n",
       "      <td>Canada</td>\n",
       "    </tr>\n",
       "    <tr>\n",
       "      <th>366</th>\n",
       "      <td>Natural Gas</td>\n",
       "      <td>2050</td>\n",
       "      <td>102350.23</td>\n",
       "      <td>Canada</td>\n",
       "    </tr>\n",
       "    <tr>\n",
       "      <th>367</th>\n",
       "      <td>Oil</td>\n",
       "      <td>2050</td>\n",
       "      <td>448.57</td>\n",
       "      <td>Canada</td>\n",
       "    </tr>\n",
       "  </tbody>\n",
       "</table>\n",
       "<p>368 rows × 4 columns</p>\n",
       "</div>"
      ],
      "text/plain": [
       "              Energy_Type  Year        GWh Province\n",
       "0    Hydro / Wave / Tidal  2005  358380.80   Canada\n",
       "1                    Wind  2005    1453.41   Canada\n",
       "2    Biomass / Geothermal  2005    6997.43   Canada\n",
       "3                   Solar  2005       0.00   Canada\n",
       "4                 Uranium  2005   86668.58   Canada\n",
       "..                    ...   ...        ...      ...\n",
       "363                 Solar  2050   62977.35   Canada\n",
       "364               Uranium  2050   87524.19   Canada\n",
       "365           Coal & Coke  2050     656.02   Canada\n",
       "366           Natural Gas  2050  102350.23   Canada\n",
       "367                   Oil  2050     448.57   Canada\n",
       "\n",
       "[368 rows x 4 columns]"
      ]
     },
     "execution_count": 238,
     "metadata": {},
     "output_type": "execute_result"
    }
   ],
   "source": [
    "\n",
    "def clean_generation(df, start_row, province_name, num_rows = 8):\n",
    "\n",
    "    header_row = start_row + 1\n",
    "    data_rows = start_row + 2\n",
    "\n",
    "    headers = df.iloc[header_row]\n",
    "    block = df.iloc[data_rows : data_rows + num_rows].copy()\n",
    "    block.columns = headers\n",
    "\n",
    "    block = block.dropna(subset=[block.columns[0]])\n",
    "\n",
    "    block = block.rename(columns={block.columns[0]: \"Energy_Type\"})\n",
    "    block = block.melt(id_vars=\"Energy_Type\", var_name=\"Year\", value_name=\"GWh\")\n",
    "\n",
    "    block[\"Province\"] = province_name\n",
    "    block[\"Year\"] = pd.to_numeric(block[\"Year\"], errors=\"coerce\")\n",
    "    block[\"GWh\"] = pd.to_numeric(block[\"GWh\"], errors=\"coerce\")\n",
    "\n",
    "    block = block.dropna(subset=[\"Year\", \"GWh\"])\n",
    "    block[\"Year\"] = block[\"Year\"].astype(int)\n",
    "\n",
    "    return block\n",
    "\n",
    "provinces_generation = {\n",
    "    \"Canada\": 5,\n",
    "    \"Newfoundland and Labrador\": 16,\n",
    "    \"Prince Edward Island\": 27,\n",
    "    \"Nova Scotia\": 38,\n",
    "    \"New Brunswick\": 49,\n",
    "    \"Quebec\": 60,\n",
    "    \"Ontario\": 71,\n",
    "    \"Manitoba\": 82,\n",
    "    \"Alberta\": 93,\n",
    "    \"British Columbia\": 104,\n",
    "    \"Saskatchewan\": 115,\n",
    "    \"Yukon\": 126,\n",
    "    \"Northwest Territories\": 137,\n",
    "    \"Nunavut\": 148,\n",
    "}\n",
    "\n",
    "all_province_data = []\n",
    "\n",
    "for province, start_row in provinces_generation.items():\n",
    "    cleaned = clean_generation(generation_df, start_row, province)\n",
    "    all_province_data.append(cleaned)\n",
    "\n",
    "\n",
    "gen_clean = pd.concat(all_province_data, ignore_index=True)\n",
    "quebec_df = gen_clean[gen_clean[\"Province\"] == \"Canada\"]\n",
    "quebec_df\n",
    "\n",
    "\n"
   ]
  },
  {
   "cell_type": "markdown",
   "metadata": {},
   "source": [
    "### Power Capacity Data Set Cleaning"
   ]
  },
  {
   "cell_type": "code",
   "execution_count": null,
   "metadata": {},
   "outputs": [
    {
     "data": {
      "application/vnd.microsoft.datawrangler.viewer.v0+json": {
       "columns": [
        {
         "name": "index",
         "rawType": "int64",
         "type": "integer"
        },
        {
         "name": "Energy_Type",
         "rawType": "object",
         "type": "string"
        },
        {
         "name": "Year",
         "rawType": "int64",
         "type": "integer"
        },
        {
         "name": "GWh",
         "rawType": "float64",
         "type": "float"
        },
        {
         "name": "Province",
         "rawType": "object",
         "type": "string"
        }
       ],
       "conversionMethod": "pd.DataFrame",
       "ref": "32ec9967-ea6c-4cb5-ae5a-44a1c701f5cd",
       "rows": [
        [
         "0",
         "Hydro / Wave / Tidal",
         "2005",
         "72877.98",
         "Canada"
        ],
        [
         "1",
         "Wind",
         "2005",
         "557.37",
         "Canada"
        ],
        [
         "2",
         "Biomass / Geothermal",
         "2005",
         "1735.59",
         "Canada"
        ],
        [
         "3",
         "Solar",
         "2005",
         "16.75",
         "Canada"
        ],
        [
         "4",
         "Uranium",
         "2005",
         "12805.0",
         "Canada"
        ],
        [
         "5",
         "Coal & Coke",
         "2005",
         "15647.64",
         "Canada"
        ],
        [
         "6",
         "Natural Gas",
         "2005",
         "13561.11",
         "Canada"
        ],
        [
         "7",
         "Oil",
         "2005",
         "4770.08",
         "Canada"
        ],
        [
         "8",
         "Hydro / Wave / Tidal",
         "2006",
         "72767.98",
         "Canada"
        ],
        [
         "9",
         "Wind",
         "2006",
         "1443.04",
         "Canada"
        ],
        [
         "10",
         "Biomass / Geothermal",
         "2006",
         "1742.19",
         "Canada"
        ],
        [
         "11",
         "Solar",
         "2006",
         "20.48",
         "Canada"
        ],
        [
         "12",
         "Uranium",
         "2006",
         "13345.0",
         "Canada"
        ],
        [
         "13",
         "Coal & Coke",
         "2006",
         "15563.64",
         "Canada"
        ],
        [
         "14",
         "Natural Gas",
         "2006",
         "13858.78",
         "Canada"
        ],
        [
         "15",
         "Oil",
         "2006",
         "4519.44",
         "Canada"
        ],
        [
         "16",
         "Hydro / Wave / Tidal",
         "2007",
         "73568.98",
         "Canada"
        ],
        [
         "17",
         "Wind",
         "2007",
         "1823.24",
         "Canada"
        ],
        [
         "18",
         "Biomass / Geothermal",
         "2007",
         "1742.19",
         "Canada"
        ],
        [
         "19",
         "Solar",
         "2007",
         "25.77",
         "Canada"
        ],
        [
         "20",
         "Uranium",
         "2007",
         "13345.0",
         "Canada"
        ],
        [
         "21",
         "Coal & Coke",
         "2007",
         "15650.64",
         "Canada"
        ],
        [
         "22",
         "Natural Gas",
         "2007",
         "13954.9",
         "Canada"
        ],
        [
         "23",
         "Oil",
         "2007",
         "4524.44",
         "Canada"
        ],
        [
         "24",
         "Hydro / Wave / Tidal",
         "2008",
         "74471.98",
         "Canada"
        ],
        [
         "25",
         "Wind",
         "2008",
         "2321.14",
         "Canada"
        ],
        [
         "26",
         "Biomass / Geothermal",
         "2008",
         "1666.19",
         "Canada"
        ],
        [
         "27",
         "Solar",
         "2008",
         "32.72",
         "Canada"
        ],
        [
         "28",
         "Uranium",
         "2008",
         "13345.0",
         "Canada"
        ],
        [
         "29",
         "Coal & Coke",
         "2008",
         "15471.64",
         "Canada"
        ],
        [
         "30",
         "Natural Gas",
         "2008",
         "15717.1",
         "Canada"
        ],
        [
         "31",
         "Oil",
         "2008",
         "4520.69",
         "Canada"
        ],
        [
         "32",
         "Hydro / Wave / Tidal",
         "2009",
         "74753.98",
         "Canada"
        ],
        [
         "33",
         "Wind",
         "2009",
         "3240.14",
         "Canada"
        ],
        [
         "34",
         "Biomass / Geothermal",
         "2009",
         "1735.29",
         "Canada"
        ],
        [
         "35",
         "Solar",
         "2009",
         "94.57",
         "Canada"
        ],
        [
         "36",
         "Uranium",
         "2009",
         "13345.0",
         "Canada"
        ],
        [
         "37",
         "Coal & Coke",
         "2009",
         "15528.64",
         "Canada"
        ],
        [
         "38",
         "Natural Gas",
         "2009",
         "15820.33",
         "Canada"
        ],
        [
         "39",
         "Oil",
         "2009",
         "4474.83",
         "Canada"
        ],
        [
         "40",
         "Hydro / Wave / Tidal",
         "2010",
         "75148.98",
         "Canada"
        ],
        [
         "41",
         "Wind",
         "2010",
         "3746.11",
         "Canada"
        ],
        [
         "42",
         "Biomass / Geothermal",
         "2010",
         "1800.29",
         "Canada"
        ],
        [
         "43",
         "Solar",
         "2010",
         "281.13",
         "Canada"
        ],
        [
         "44",
         "Uranium",
         "2010",
         "13345.0",
         "Canada"
        ],
        [
         "45",
         "Coal & Coke",
         "2010",
         "13779.64",
         "Canada"
        ],
        [
         "46",
         "Natural Gas",
         "2010",
         "18944.95",
         "Canada"
        ],
        [
         "47",
         "Oil",
         "2010",
         "4609.02",
         "Canada"
        ],
        [
         "48",
         "Hydro / Wave / Tidal",
         "2011",
         "75464.84",
         "Canada"
        ],
        [
         "49",
         "Wind",
         "2011",
         "5171.34",
         "Canada"
        ]
       ],
       "shape": {
        "columns": 4,
        "rows": 4501
       }
      },
      "text/html": [
       "<div>\n",
       "<style scoped>\n",
       "    .dataframe tbody tr th:only-of-type {\n",
       "        vertical-align: middle;\n",
       "    }\n",
       "\n",
       "    .dataframe tbody tr th {\n",
       "        vertical-align: top;\n",
       "    }\n",
       "\n",
       "    .dataframe thead th {\n",
       "        text-align: right;\n",
       "    }\n",
       "</style>\n",
       "<table border=\"1\" class=\"dataframe\">\n",
       "  <thead>\n",
       "    <tr style=\"text-align: right;\">\n",
       "      <th></th>\n",
       "      <th>Energy_Type</th>\n",
       "      <th>Year</th>\n",
       "      <th>GWh</th>\n",
       "      <th>Province</th>\n",
       "    </tr>\n",
       "  </thead>\n",
       "  <tbody>\n",
       "    <tr>\n",
       "      <th>0</th>\n",
       "      <td>Hydro / Wave / Tidal</td>\n",
       "      <td>2005</td>\n",
       "      <td>72877.98</td>\n",
       "      <td>Canada</td>\n",
       "    </tr>\n",
       "    <tr>\n",
       "      <th>1</th>\n",
       "      <td>Wind</td>\n",
       "      <td>2005</td>\n",
       "      <td>557.37</td>\n",
       "      <td>Canada</td>\n",
       "    </tr>\n",
       "    <tr>\n",
       "      <th>2</th>\n",
       "      <td>Biomass / Geothermal</td>\n",
       "      <td>2005</td>\n",
       "      <td>1735.59</td>\n",
       "      <td>Canada</td>\n",
       "    </tr>\n",
       "    <tr>\n",
       "      <th>3</th>\n",
       "      <td>Solar</td>\n",
       "      <td>2005</td>\n",
       "      <td>16.75</td>\n",
       "      <td>Canada</td>\n",
       "    </tr>\n",
       "    <tr>\n",
       "      <th>4</th>\n",
       "      <td>Uranium</td>\n",
       "      <td>2005</td>\n",
       "      <td>12805.00</td>\n",
       "      <td>Canada</td>\n",
       "    </tr>\n",
       "    <tr>\n",
       "      <th>...</th>\n",
       "      <td>...</td>\n",
       "      <td>...</td>\n",
       "      <td>...</td>\n",
       "      <td>...</td>\n",
       "    </tr>\n",
       "    <tr>\n",
       "      <th>4496</th>\n",
       "      <td>Solar</td>\n",
       "      <td>2049</td>\n",
       "      <td>40.03</td>\n",
       "      <td>Nunavut</td>\n",
       "    </tr>\n",
       "    <tr>\n",
       "      <th>4497</th>\n",
       "      <td>Oil</td>\n",
       "      <td>2049</td>\n",
       "      <td>70.28</td>\n",
       "      <td>Nunavut</td>\n",
       "    </tr>\n",
       "    <tr>\n",
       "      <th>4498</th>\n",
       "      <td>Wind</td>\n",
       "      <td>2050</td>\n",
       "      <td>31.39</td>\n",
       "      <td>Nunavut</td>\n",
       "    </tr>\n",
       "    <tr>\n",
       "      <th>4499</th>\n",
       "      <td>Solar</td>\n",
       "      <td>2050</td>\n",
       "      <td>39.03</td>\n",
       "      <td>Nunavut</td>\n",
       "    </tr>\n",
       "    <tr>\n",
       "      <th>4500</th>\n",
       "      <td>Oil</td>\n",
       "      <td>2050</td>\n",
       "      <td>70.28</td>\n",
       "      <td>Nunavut</td>\n",
       "    </tr>\n",
       "  </tbody>\n",
       "</table>\n",
       "<p>4501 rows × 4 columns</p>\n",
       "</div>"
      ],
      "text/plain": [
       "               Energy_Type  Year       GWh Province\n",
       "0     Hydro / Wave / Tidal  2005  72877.98   Canada\n",
       "1                     Wind  2005    557.37   Canada\n",
       "2     Biomass / Geothermal  2005   1735.59   Canada\n",
       "3                    Solar  2005     16.75   Canada\n",
       "4                  Uranium  2005  12805.00   Canada\n",
       "...                    ...   ...       ...      ...\n",
       "4496                 Solar  2049     40.03  Nunavut\n",
       "4497                   Oil  2049     70.28  Nunavut\n",
       "4498                  Wind  2050     31.39  Nunavut\n",
       "4499                 Solar  2050     39.03  Nunavut\n",
       "4500                   Oil  2050     70.28  Nunavut\n",
       "\n",
       "[4501 rows x 4 columns]"
      ]
     },
     "execution_count": 239,
     "metadata": {},
     "output_type": "execute_result"
    }
   ],
   "source": [
    "# Im using the same function from generation data\n",
    "\n",
    "provinces_cap = {\n",
    "    \"Canada\": 5,\n",
    "    \"Newfoundland and Labrador\": 16,\n",
    "    \"Prince Edward Island\": 27,\n",
    "    \"Nova Scotia\": 38,\n",
    "    \"New Brunswick\": 49,\n",
    "    \"Quebec\": 60,\n",
    "    \"Ontario\": 71,\n",
    "    \"Manitoba\": 82,\n",
    "    \"Alberta\": 93,\n",
    "    \"British Columbia\": 104,\n",
    "    \"Saskatchewan\": 115,\n",
    "    \"Yukon\": 126,\n",
    "    \"Northwest Territories\": 137,\n",
    "    \"Nunavut\": 148,\n",
    "}\n",
    "\n",
    "all_province_cap_data = []\n",
    "for province, start_row in provinces_cap.items():\n",
    "    cap_cleaned = clean_generation(capacity_df, start_row, province)\n",
    "    all_province_cap_data.append(cap_cleaned)\n",
    "\n",
    "cap_clean = pd.concat(all_province_cap_data, ignore_index=True)\n",
    "# cap_clean"
   ]
  },
  {
   "cell_type": "markdown",
   "metadata": {},
   "source": [
    "### Population Data Set Cleaning"
   ]
  },
  {
   "cell_type": "code",
   "execution_count": 240,
   "metadata": {},
   "outputs": [
    {
     "name": "stdout",
     "output_type": "stream",
     "text": [
      "Index(['Release date: 2025-03-19'], dtype='object')\n"
     ]
    },
    {
     "data": {
      "application/vnd.microsoft.datawrangler.viewer.v0+json": {
       "columns": [
        {
         "name": "index",
         "rawType": "int64",
         "type": "integer"
        },
        {
         "name": "Release date: 2025-03-19",
         "rawType": "object",
         "type": "string"
        }
       ],
       "conversionMethod": "pd.DataFrame",
       "ref": "507e359b-e0a8-455f-93a8-2444948f4269",
       "rows": [
        [
         "0",
         "Geography: Canada, Province or territory"
        ],
        [
         "1",
         "Footnotes:"
        ],
        [
         "2",
         "How to cite: Statistics Canada. Table 17-10-0009-01  Population estimates, quarterly"
        ],
        [
         "3",
         "https://www150.statcan.gc.ca/t1/tbl1/en/tv.action?pid=1710000901"
        ]
       ],
       "shape": {
        "columns": 1,
        "rows": 4
       }
      },
      "text/html": [
       "<div>\n",
       "<style scoped>\n",
       "    .dataframe tbody tr th:only-of-type {\n",
       "        vertical-align: middle;\n",
       "    }\n",
       "\n",
       "    .dataframe tbody tr th {\n",
       "        vertical-align: top;\n",
       "    }\n",
       "\n",
       "    .dataframe thead th {\n",
       "        text-align: right;\n",
       "    }\n",
       "</style>\n",
       "<table border=\"1\" class=\"dataframe\">\n",
       "  <thead>\n",
       "    <tr style=\"text-align: right;\">\n",
       "      <th></th>\n",
       "      <th>Release date: 2025-03-19</th>\n",
       "    </tr>\n",
       "  </thead>\n",
       "  <tbody>\n",
       "    <tr>\n",
       "      <th>0</th>\n",
       "      <td>Geography: Canada, Province or territory</td>\n",
       "    </tr>\n",
       "    <tr>\n",
       "      <th>1</th>\n",
       "      <td>Footnotes:</td>\n",
       "    </tr>\n",
       "    <tr>\n",
       "      <th>2</th>\n",
       "      <td>How to cite: Statistics Canada. Table 17-10-00...</td>\n",
       "    </tr>\n",
       "    <tr>\n",
       "      <th>3</th>\n",
       "      <td>https://www150.statcan.gc.ca/t1/tbl1/en/tv.act...</td>\n",
       "    </tr>\n",
       "  </tbody>\n",
       "</table>\n",
       "</div>"
      ],
      "text/plain": [
       "                            Release date: 2025-03-19\n",
       "0           Geography: Canada, Province or territory\n",
       "1                                         Footnotes:\n",
       "2  How to cite: Statistics Canada. Table 17-10-00...\n",
       "3  https://www150.statcan.gc.ca/t1/tbl1/en/tv.act..."
      ]
     },
     "metadata": {},
     "output_type": "display_data"
    },
    {
     "data": {
      "application/vnd.microsoft.datawrangler.viewer.v0+json": {
       "columns": [
        {
         "name": "index",
         "rawType": "int64",
         "type": "integer"
        },
        {
         "name": "Province",
         "rawType": "object",
         "type": "string"
        },
        {
         "name": "Year",
         "rawType": "int64",
         "type": "integer"
        },
        {
         "name": "Population",
         "rawType": "float64",
         "type": "float"
        }
       ],
       "conversionMethod": "pd.DataFrame",
       "ref": "bf4c6faf-95b5-4a86-9fd2-e3a13862d4d5",
       "rows": [],
       "shape": {
        "columns": 3,
        "rows": 0
       }
      },
      "text/html": [
       "<div>\n",
       "<style scoped>\n",
       "    .dataframe tbody tr th:only-of-type {\n",
       "        vertical-align: middle;\n",
       "    }\n",
       "\n",
       "    .dataframe tbody tr th {\n",
       "        vertical-align: top;\n",
       "    }\n",
       "\n",
       "    .dataframe thead th {\n",
       "        text-align: right;\n",
       "    }\n",
       "</style>\n",
       "<table border=\"1\" class=\"dataframe\">\n",
       "  <thead>\n",
       "    <tr style=\"text-align: right;\">\n",
       "      <th></th>\n",
       "      <th>Province</th>\n",
       "      <th>Year</th>\n",
       "      <th>Population</th>\n",
       "    </tr>\n",
       "  </thead>\n",
       "  <tbody>\n",
       "  </tbody>\n",
       "</table>\n",
       "</div>"
      ],
      "text/plain": [
       "Empty DataFrame\n",
       "Columns: [Province, Year, Population]\n",
       "Index: []"
      ]
     },
     "execution_count": 240,
     "metadata": {},
     "output_type": "execute_result"
    }
   ],
   "source": [
    "print(population_df.columns[:5])\n",
    "display(population_df.head())\n",
    "def cleanPopulation(df):\n",
    "\n",
    "    df = df.rename(columns={df.columns[0]: \"Province\"})\n",
    "    df = df[~df[\"Province\"].isna()]\n",
    "\n",
    "    df_long = df.melt(id_vars=\"Province\", var_name=\"Quarter\", value_name=\"Population\")\n",
    "    df_long[\"Year\"] = df_long[\"Quarter\"].str.extract(r\"(\\d{4})\")\n",
    "    df_long = df_long.dropna(subset=[\"Year\"])\n",
    "    df_long[\"Year\"] = df_long[\"Year\"].astype(int)\n",
    "\n",
    "    df_long[\"Population\"] = df_long[\"Population\"].replace(\",\", \"\", regex=True).astype(float)\n",
    "    df_yearly = (\n",
    "        df_long.groupby([\"Province\", \"Year\"], as_index=False)\n",
    "        .agg({\"Population\": \"mean\"})\n",
    "    )\n",
    "\n",
    "    return df_yearly\n",
    "\n",
    "population_yearly_df = cleanPopulation(population_df)\n",
    "\n",
    "population_yearly_df"
   ]
  }
 ],
 "metadata": {
  "kernelspec": {
   "display_name": ".venv",
   "language": "python",
   "name": "python3"
  },
  "language_info": {
   "codemirror_mode": {
    "name": "ipython",
    "version": 3
   },
   "file_extension": ".py",
   "mimetype": "text/x-python",
   "name": "python",
   "nbconvert_exporter": "python",
   "pygments_lexer": "ipython3",
   "version": "3.13.1"
  }
 },
 "nbformat": 4,
 "nbformat_minor": 2
}
