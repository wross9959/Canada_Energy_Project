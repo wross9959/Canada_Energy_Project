{
 "cells": [
  {
   "cell_type": "markdown",
   "metadata": {},
   "source": [
    "# Welcome this will be where all our info goes"
   ]
  },
  {
   "cell_type": "code",
   "execution_count": 252,
   "metadata": {},
   "outputs": [],
   "source": [
    "# Importing all the goodies\n",
    "import pandas as pd\n",
    "import numpy as np\n",
    "\n",
    "\n",
    "# ploting imports\n",
    "import matplotlib.pyplot as plt\n",
    "import seaborn as sns\n",
    "import plotly.express as px\n",
    "import openpyxl as pxl\n",
    "\n",
    "\n",
    "# All Data to import using dataframes\n",
    "population_Data_Path = \"../data/population.csv\"\n",
    "Electricity_Generation_Data_Path = \"../data/Electricity_Generation.xlsx\"\n",
    "Electricity_Interchange_Data_Path = \"../data/Electricity_Interchange.xlsx\"\n",
    "Electricity_Capacity_Data_Path = \"../data/Electricity_Capacity.xlsx\"\n",
    "End_Use_Demand_Data_Path = \"../data/End_Use_Demand.xlsx\"\n",
    "End_Use_Prices_Data_Path = \"../data/End_Use_Prices.xlsx\"\n",
    "energy_trade_canada_path = \"../data/energy_trade_canada.xls\"\n",
    "Canadian_Climate_Normals_CANADA_Data_Path = \"../data/1991-2020_Canadian_Climate_Normals_CANADA_Data.csv\""
   ]
  },
  {
   "cell_type": "markdown",
   "metadata": {},
   "source": [
    "## Load data sets\n"
   ]
  },
  {
   "cell_type": "code",
   "execution_count": 253,
   "metadata": {},
   "outputs": [],
   "source": [
    "\n",
    "\n",
    "\n",
    "# CSV files\n",
    "population_df = pd.read_csv(population_Data_Path, sep=\",\", skiprows=3, header=0, engine=\"python\", quotechar='\"', on_bad_lines=\"skip\")\n",
    "climate_df = pd.read_csv(Canadian_Climate_Normals_CANADA_Data_Path, sep=\",\")\n",
    "\n",
    "# # Excel Files\n",
    "generation_df = pd.read_excel(Electricity_Generation_Data_Path)\n",
    "capacity_df = pd.read_excel(Electricity_Capacity_Data_Path)\n",
    "interchange_df = pd.read_excel(Electricity_Interchange_Data_Path)\n",
    "demand_df = pd.read_excel(End_Use_Demand_Data_Path)\n",
    "prices_df = pd.read_excel(End_Use_Prices_Data_Path)\n",
    "# prtrade_df = pd.read_excel(energy_trade_canada_path)\n",
    "\n",
    "\n",
    "dataframes = {\n",
    "    \"Population\": population_df,\n",
    "    \"Generation\": generation_df,\n",
    "    \"Capacity\": capacity_df,\n",
    "    \"Interchange\": interchange_df,\n",
    "    \"Demand\": demand_df,\n",
    "    \"Prices\": prices_df,\n",
    "    \"Climate\": climate_df\n",
    "}\n",
    "\n",
    "\n",
    "\n"
   ]
  },
  {
   "cell_type": "markdown",
   "metadata": {},
   "source": [
    "### Power Generation Data Set Cleaning "
   ]
  },
  {
   "cell_type": "code",
   "execution_count": 254,
   "metadata": {},
   "outputs": [
    {
     "data": {
      "application/vnd.microsoft.datawrangler.viewer.v0+json": {
       "columns": [
        {
         "name": "index",
         "rawType": "int64",
         "type": "integer"
        },
        {
         "name": "Energy_Type",
         "rawType": "object",
         "type": "string"
        },
        {
         "name": "Year",
         "rawType": "int64",
         "type": "integer"
        },
        {
         "name": "GWh",
         "rawType": "float64",
         "type": "float"
        },
        {
         "name": "Province",
         "rawType": "object",
         "type": "string"
        }
       ],
       "conversionMethod": "pd.DataFrame",
       "ref": "6ca0b59f-ffcd-4635-91b1-21b3e0dbd1aa",
       "rows": [
        [
         "0",
         "Hydro / Wave / Tidal",
         "2005",
         "358380.8",
         "Canada"
        ],
        [
         "1",
         "Wind",
         "2005",
         "1453.41",
         "Canada"
        ],
        [
         "2",
         "Biomass / Geothermal",
         "2005",
         "6997.43",
         "Canada"
        ],
        [
         "3",
         "Solar",
         "2005",
         "0.0",
         "Canada"
        ],
        [
         "4",
         "Uranium",
         "2005",
         "86668.58",
         "Canada"
        ],
        [
         "5",
         "Coal & Coke",
         "2005",
         "97362.16",
         "Canada"
        ],
        [
         "6",
         "Natural Gas",
         "2005",
         "40015.8",
         "Canada"
        ],
        [
         "7",
         "Oil",
         "2005",
         "8193.96",
         "Canada"
        ],
        [
         "8",
         "Hydro / Wave / Tidal",
         "2006",
         "349124.5",
         "Canada"
        ],
        [
         "9",
         "Wind",
         "2006",
         "2529.41",
         "Canada"
        ],
        [
         "10",
         "Biomass / Geothermal",
         "2006",
         "7143.38",
         "Canada"
        ],
        [
         "11",
         "Solar",
         "2006",
         "0.0",
         "Canada"
        ],
        [
         "12",
         "Uranium",
         "2006",
         "92144.58",
         "Canada"
        ],
        [
         "13",
         "Coal & Coke",
         "2006",
         "92204.69",
         "Canada"
        ],
        [
         "14",
         "Natural Gas",
         "2006",
         "43057.99",
         "Canada"
        ],
        [
         "15",
         "Oil",
         "2006",
         "7877.58",
         "Canada"
        ],
        [
         "16",
         "Hydro / Wave / Tidal",
         "2007",
         "363798.5",
         "Canada"
        ],
        [
         "17",
         "Wind",
         "2007",
         "3683.41",
         "Canada"
        ],
        [
         "18",
         "Biomass / Geothermal",
         "2007",
         "6971.02",
         "Canada"
        ],
        [
         "19",
         "Solar",
         "2007",
         "0.0",
         "Canada"
        ],
        [
         "20",
         "Uranium",
         "2007",
         "88190.58",
         "Canada"
        ],
        [
         "21",
         "Coal & Coke",
         "2007",
         "97287.24",
         "Canada"
        ],
        [
         "22",
         "Natural Gas",
         "2007",
         "47278.59",
         "Canada"
        ],
        [
         "23",
         "Oil",
         "2007",
         "8776.76",
         "Canada"
        ],
        [
         "24",
         "Hydro / Wave / Tidal",
         "2008",
         "373817.3",
         "Canada"
        ],
        [
         "25",
         "Wind",
         "2008",
         "4715.44",
         "Canada"
        ],
        [
         "26",
         "Biomass / Geothermal",
         "2008",
         "6319.81",
         "Canada"
        ],
        [
         "27",
         "Solar",
         "2008",
         "0.0",
         "Canada"
        ],
        [
         "28",
         "Uranium",
         "2008",
         "90585.23",
         "Canada"
        ],
        [
         "29",
         "Coal & Coke",
         "2008",
         "91097.93",
         "Canada"
        ],
        [
         "30",
         "Natural Gas",
         "2008",
         "43912.88",
         "Canada"
        ],
        [
         "31",
         "Oil",
         "2008",
         "6929.51",
         "Canada"
        ],
        [
         "32",
         "Hydro / Wave / Tidal",
         "2009",
         "365011.8",
         "Canada"
        ],
        [
         "33",
         "Wind",
         "2009",
         "7031.23",
         "Canada"
        ],
        [
         "34",
         "Biomass / Geothermal",
         "2009",
         "6057.39",
         "Canada"
        ],
        [
         "35",
         "Solar",
         "2009",
         "5.0",
         "Canada"
        ],
        [
         "36",
         "Uranium",
         "2009",
         "84992.27",
         "Canada"
        ],
        [
         "37",
         "Coal & Coke",
         "2009",
         "76661.64",
         "Canada"
        ],
        [
         "38",
         "Natural Gas",
         "2009",
         "42619.74",
         "Canada"
        ],
        [
         "39",
         "Oil",
         "2009",
         "7336.52",
         "Canada"
        ],
        [
         "40",
         "Hydro / Wave / Tidal",
         "2010",
         "347937.5",
         "Canada"
        ],
        [
         "41",
         "Wind",
         "2010",
         "8354.23",
         "Canada"
        ],
        [
         "42",
         "Biomass / Geothermal",
         "2010",
         "8266.52",
         "Canada"
        ],
        [
         "43",
         "Solar",
         "2010",
         "123.0",
         "Canada"
        ],
        [
         "44",
         "Uranium",
         "2010",
         "85526.59",
         "Canada"
        ],
        [
         "45",
         "Coal & Coke",
         "2010",
         "71258.57",
         "Canada"
        ],
        [
         "46",
         "Natural Gas",
         "2010",
         "54093.18",
         "Canada"
        ],
        [
         "47",
         "Oil",
         "2010",
         "5187.67",
         "Canada"
        ],
        [
         "48",
         "Hydro / Wave / Tidal",
         "2011",
         "371953.2",
         "Canada"
        ],
        [
         "49",
         "Wind",
         "2011",
         "11622.99",
         "Canada"
        ]
       ],
       "shape": {
        "columns": 4,
        "rows": 368
       }
      },
      "text/html": [
       "<div>\n",
       "<style scoped>\n",
       "    .dataframe tbody tr th:only-of-type {\n",
       "        vertical-align: middle;\n",
       "    }\n",
       "\n",
       "    .dataframe tbody tr th {\n",
       "        vertical-align: top;\n",
       "    }\n",
       "\n",
       "    .dataframe thead th {\n",
       "        text-align: right;\n",
       "    }\n",
       "</style>\n",
       "<table border=\"1\" class=\"dataframe\">\n",
       "  <thead>\n",
       "    <tr style=\"text-align: right;\">\n",
       "      <th></th>\n",
       "      <th>Energy_Type</th>\n",
       "      <th>Year</th>\n",
       "      <th>GWh</th>\n",
       "      <th>Province</th>\n",
       "    </tr>\n",
       "  </thead>\n",
       "  <tbody>\n",
       "    <tr>\n",
       "      <th>0</th>\n",
       "      <td>Hydro / Wave / Tidal</td>\n",
       "      <td>2005</td>\n",
       "      <td>358380.80</td>\n",
       "      <td>Canada</td>\n",
       "    </tr>\n",
       "    <tr>\n",
       "      <th>1</th>\n",
       "      <td>Wind</td>\n",
       "      <td>2005</td>\n",
       "      <td>1453.41</td>\n",
       "      <td>Canada</td>\n",
       "    </tr>\n",
       "    <tr>\n",
       "      <th>2</th>\n",
       "      <td>Biomass / Geothermal</td>\n",
       "      <td>2005</td>\n",
       "      <td>6997.43</td>\n",
       "      <td>Canada</td>\n",
       "    </tr>\n",
       "    <tr>\n",
       "      <th>3</th>\n",
       "      <td>Solar</td>\n",
       "      <td>2005</td>\n",
       "      <td>0.00</td>\n",
       "      <td>Canada</td>\n",
       "    </tr>\n",
       "    <tr>\n",
       "      <th>4</th>\n",
       "      <td>Uranium</td>\n",
       "      <td>2005</td>\n",
       "      <td>86668.58</td>\n",
       "      <td>Canada</td>\n",
       "    </tr>\n",
       "    <tr>\n",
       "      <th>...</th>\n",
       "      <td>...</td>\n",
       "      <td>...</td>\n",
       "      <td>...</td>\n",
       "      <td>...</td>\n",
       "    </tr>\n",
       "    <tr>\n",
       "      <th>363</th>\n",
       "      <td>Solar</td>\n",
       "      <td>2050</td>\n",
       "      <td>62977.35</td>\n",
       "      <td>Canada</td>\n",
       "    </tr>\n",
       "    <tr>\n",
       "      <th>364</th>\n",
       "      <td>Uranium</td>\n",
       "      <td>2050</td>\n",
       "      <td>87524.19</td>\n",
       "      <td>Canada</td>\n",
       "    </tr>\n",
       "    <tr>\n",
       "      <th>365</th>\n",
       "      <td>Coal &amp; Coke</td>\n",
       "      <td>2050</td>\n",
       "      <td>656.02</td>\n",
       "      <td>Canada</td>\n",
       "    </tr>\n",
       "    <tr>\n",
       "      <th>366</th>\n",
       "      <td>Natural Gas</td>\n",
       "      <td>2050</td>\n",
       "      <td>102350.23</td>\n",
       "      <td>Canada</td>\n",
       "    </tr>\n",
       "    <tr>\n",
       "      <th>367</th>\n",
       "      <td>Oil</td>\n",
       "      <td>2050</td>\n",
       "      <td>448.57</td>\n",
       "      <td>Canada</td>\n",
       "    </tr>\n",
       "  </tbody>\n",
       "</table>\n",
       "<p>368 rows × 4 columns</p>\n",
       "</div>"
      ],
      "text/plain": [
       "              Energy_Type  Year        GWh Province\n",
       "0    Hydro / Wave / Tidal  2005  358380.80   Canada\n",
       "1                    Wind  2005    1453.41   Canada\n",
       "2    Biomass / Geothermal  2005    6997.43   Canada\n",
       "3                   Solar  2005       0.00   Canada\n",
       "4                 Uranium  2005   86668.58   Canada\n",
       "..                    ...   ...        ...      ...\n",
       "363                 Solar  2050   62977.35   Canada\n",
       "364               Uranium  2050   87524.19   Canada\n",
       "365           Coal & Coke  2050     656.02   Canada\n",
       "366           Natural Gas  2050  102350.23   Canada\n",
       "367                   Oil  2050     448.57   Canada\n",
       "\n",
       "[368 rows x 4 columns]"
      ]
     },
     "execution_count": 254,
     "metadata": {},
     "output_type": "execute_result"
    }
   ],
   "source": [
    "\n",
    "def clean_generation(df, start_row, province_name, num_rows = 8):\n",
    "\n",
    "    header_row = start_row + 1\n",
    "    data_rows = start_row + 2\n",
    "\n",
    "    headers = df.iloc[header_row]\n",
    "    block = df.iloc[data_rows : data_rows + num_rows].copy()\n",
    "    block.columns = headers\n",
    "\n",
    "    block = block.dropna(subset=[block.columns[0]])\n",
    "\n",
    "    block = block.rename(columns={block.columns[0]: \"Energy_Type\"})\n",
    "    block = block.melt(id_vars=\"Energy_Type\", var_name=\"Year\", value_name=\"GWh\")\n",
    "\n",
    "    block[\"Province\"] = province_name\n",
    "    block[\"Year\"] = pd.to_numeric(block[\"Year\"], errors=\"coerce\")\n",
    "    block[\"GWh\"] = pd.to_numeric(block[\"GWh\"], errors=\"coerce\")\n",
    "\n",
    "    block = block.dropna(subset=[\"Year\", \"GWh\"])\n",
    "    block[\"Year\"] = block[\"Year\"].astype(int)\n",
    "\n",
    "    return block\n",
    "\n",
    "provinces_generation = {\n",
    "    \"Canada\": 5,\n",
    "    \"Newfoundland and Labrador\": 16,\n",
    "    \"Prince Edward Island\": 27,\n",
    "    \"Nova Scotia\": 38,\n",
    "    \"New Brunswick\": 49,\n",
    "    \"Quebec\": 60,\n",
    "    \"Ontario\": 71,\n",
    "    \"Manitoba\": 82,\n",
    "    \"Alberta\": 93,\n",
    "    \"British Columbia\": 104,\n",
    "    \"Saskatchewan\": 115,\n",
    "    \"Yukon\": 126,\n",
    "    \"Northwest Territories\": 137,\n",
    "    \"Nunavut\": 148,\n",
    "}\n",
    "\n",
    "all_province_data = []\n",
    "\n",
    "for province, start_row in provinces_generation.items():\n",
    "    cleaned = clean_generation(generation_df, start_row, province)\n",
    "    all_province_data.append(cleaned)\n",
    "\n",
    "\n",
    "gen_clean = pd.concat(all_province_data, ignore_index=True)\n",
    "quebec_df = gen_clean[gen_clean[\"Province\"] == \"Canada\"]\n",
    "quebec_df\n",
    "\n",
    "\n"
   ]
  },
  {
   "cell_type": "markdown",
   "metadata": {},
   "source": [
    "### Power Capacity Data Set Cleaning"
   ]
  },
  {
   "cell_type": "code",
   "execution_count": 255,
   "metadata": {},
   "outputs": [],
   "source": [
    "# Im using the same function from generation data\n",
    "\n",
    "provinces_cap = {\n",
    "    \"Canada\": 5,\n",
    "    \"Newfoundland and Labrador\": 16,\n",
    "    \"Prince Edward Island\": 27,\n",
    "    \"Nova Scotia\": 38,\n",
    "    \"New Brunswick\": 49,\n",
    "    \"Quebec\": 60,\n",
    "    \"Ontario\": 71,\n",
    "    \"Manitoba\": 82,\n",
    "    \"Alberta\": 93,\n",
    "    \"British Columbia\": 104,\n",
    "    \"Saskatchewan\": 115,\n",
    "    \"Yukon\": 126,\n",
    "    \"Northwest Territories\": 137,\n",
    "    \"Nunavut\": 148,\n",
    "}\n",
    "\n",
    "all_province_cap_data = []\n",
    "for province, start_row in provinces_cap.items():\n",
    "    cap_cleaned = clean_generation(capacity_df, start_row, province)\n",
    "    all_province_cap_data.append(cap_cleaned)\n",
    "\n",
    "cap_clean = pd.concat(all_province_cap_data, ignore_index=True)\n",
    "# cap_clean"
   ]
  },
  {
   "cell_type": "markdown",
   "metadata": {},
   "source": [
    "### Power Interchange Data Set Cleaning"
   ]
  },
  {
   "cell_type": "code",
   "execution_count": null,
   "metadata": {},
   "outputs": [
    {
     "name": "stdout",
     "output_type": "stream",
     "text": [
      "Total rows in interchange_df: 102\n"
     ]
    },
    {
     "data": {
      "application/vnd.microsoft.datawrangler.viewer.v0+json": {
       "columns": [
        {
         "name": "index",
         "rawType": "int64",
         "type": "integer"
        },
        {
         "name": "Energy_Type",
         "rawType": "object",
         "type": "string"
        },
        {
         "name": "Year",
         "rawType": "int64",
         "type": "integer"
        },
        {
         "name": "GWh",
         "rawType": "float64",
         "type": "float"
        },
        {
         "name": "Province",
         "rawType": "object",
         "type": "string"
        }
       ],
       "conversionMethod": "pd.DataFrame",
       "ref": "e2c0bb8d-357c-4424-9389-cd9189d67664",
       "rows": [
        [
         "0",
         "Interprovincial Out-Flows",
         "47302",
         "47303.41",
         "Canada"
        ],
        [
         "1",
         "Net Interprovincial Out-Flows",
         "47302",
         "0.45",
         "Canada"
        ],
        [
         "2",
         "Exports",
         "47302",
         "43527.53",
         "Canada"
        ],
        [
         "3",
         "Net Exports",
         "47302",
         "23850.63",
         "Canada"
        ],
        [
         "4",
         "Imports",
         "47302",
         "19676.9",
         "Canada"
        ],
        [
         "5",
         "_",
         "47302",
         "2005.0",
         "Canada"
        ],
        [
         "6",
         "Interprovincial Out-Flows",
         "47099",
         "47108.52",
         "Canada"
        ],
        [
         "7",
         "Net Interprovincial Out-Flows",
         "47099",
         "8.84",
         "Canada"
        ],
        [
         "8",
         "Exports",
         "47099",
         "42735.42",
         "Canada"
        ],
        [
         "9",
         "Net Exports",
         "47099",
         "19111.3",
         "Canada"
        ],
        [
         "10",
         "Imports",
         "47099",
         "23624.12",
         "Canada"
        ],
        [
         "11",
         "_",
         "47099",
         "2006.0",
         "Canada"
        ],
        [
         "12",
         "Interprovincial Out-Flows",
         "46149",
         "46159.51",
         "Canada"
        ],
        [
         "13",
         "Net Interprovincial Out-Flows",
         "46149",
         "10.13",
         "Canada"
        ],
        [
         "14",
         "Exports",
         "46149",
         "50331.0",
         "Canada"
        ],
        [
         "15",
         "Net Exports",
         "46149",
         "30951.09",
         "Canada"
        ],
        [
         "16",
         "Imports",
         "46149",
         "19379.91",
         "Canada"
        ],
        [
         "17",
         "_",
         "46149",
         "2007.0",
         "Canada"
        ],
        [
         "18",
         "Interprovincial Out-Flows",
         "47999",
         "47999.03",
         "Canada"
        ],
        [
         "19",
         "Net Interprovincial Out-Flows",
         "47999",
         "-0.23",
         "Canada"
        ],
        [
         "20",
         "Exports",
         "47999",
         "56022.14",
         "Canada"
        ],
        [
         "21",
         "Net Exports",
         "47999",
         "32158.52",
         "Canada"
        ],
        [
         "22",
         "Imports",
         "47999",
         "23863.62",
         "Canada"
        ],
        [
         "23",
         "_",
         "47999",
         "2008.0",
         "Canada"
        ],
        [
         "24",
         "Interprovincial Out-Flows",
         "45240",
         "45290.33",
         "Canada"
        ],
        [
         "25",
         "Net Interprovincial Out-Flows",
         "45240",
         "49.96",
         "Canada"
        ],
        [
         "26",
         "Exports",
         "45240",
         "51781.53",
         "Canada"
        ],
        [
         "27",
         "Net Exports",
         "45240",
         "33618.2",
         "Canada"
        ],
        [
         "28",
         "Imports",
         "45240",
         "18163.33",
         "Canada"
        ],
        [
         "29",
         "_",
         "45240",
         "2009.0",
         "Canada"
        ],
        [
         "30",
         "Interprovincial Out-Flows",
         "52316",
         "52315.42",
         "Canada"
        ],
        [
         "31",
         "Net Interprovincial Out-Flows",
         "52316",
         "-1.47",
         "Canada"
        ],
        [
         "32",
         "Exports",
         "52316",
         "44387.87",
         "Canada"
        ],
        [
         "33",
         "Net Exports",
         "52316",
         "25701.37",
         "Canada"
        ],
        [
         "34",
         "Imports",
         "52316",
         "18686.5",
         "Canada"
        ],
        [
         "35",
         "_",
         "52316",
         "2010.0",
         "Canada"
        ],
        [
         "36",
         "Interprovincial Out-Flows",
         "54500",
         "54500.64",
         "Canada"
        ],
        [
         "37",
         "Net Interprovincial Out-Flows",
         "54500",
         "0.38",
         "Canada"
        ],
        [
         "38",
         "Exports",
         "54500",
         "51516.68",
         "Canada"
        ],
        [
         "39",
         "Net Exports",
         "54500",
         "36555.81",
         "Canada"
        ],
        [
         "40",
         "Imports",
         "54500",
         "14960.87",
         "Canada"
        ],
        [
         "41",
         "_",
         "54500",
         "2011.0",
         "Canada"
        ],
        [
         "42",
         "Interprovincial Out-Flows",
         "54648",
         "54647.71",
         "Canada"
        ],
        [
         "43",
         "Net Interprovincial Out-Flows",
         "54648",
         "-0.59",
         "Canada"
        ],
        [
         "44",
         "Exports",
         "54648",
         "57864.48",
         "Canada"
        ],
        [
         "45",
         "Net Exports",
         "54648",
         "46977.82",
         "Canada"
        ],
        [
         "46",
         "Imports",
         "54648",
         "10886.66",
         "Canada"
        ],
        [
         "47",
         "_",
         "54648",
         "2012.0",
         "Canada"
        ],
        [
         "48",
         "Interprovincial Out-Flows",
         "57773",
         "57773.96",
         "Canada"
        ],
        [
         "49",
         "Net Interprovincial Out-Flows",
         "57773",
         "0.76",
         "Canada"
        ]
       ],
       "shape": {
        "columns": 4,
        "rows": 2990
       }
      },
      "text/html": [
       "<div>\n",
       "<style scoped>\n",
       "    .dataframe tbody tr th:only-of-type {\n",
       "        vertical-align: middle;\n",
       "    }\n",
       "\n",
       "    .dataframe tbody tr th {\n",
       "        vertical-align: top;\n",
       "    }\n",
       "\n",
       "    .dataframe thead th {\n",
       "        text-align: right;\n",
       "    }\n",
       "</style>\n",
       "<table border=\"1\" class=\"dataframe\">\n",
       "  <thead>\n",
       "    <tr style=\"text-align: right;\">\n",
       "      <th></th>\n",
       "      <th>Energy_Type</th>\n",
       "      <th>Year</th>\n",
       "      <th>GWh</th>\n",
       "      <th>Province</th>\n",
       "    </tr>\n",
       "  </thead>\n",
       "  <tbody>\n",
       "    <tr>\n",
       "      <th>0</th>\n",
       "      <td>Interprovincial Out-Flows</td>\n",
       "      <td>47302</td>\n",
       "      <td>47303.41</td>\n",
       "      <td>Canada</td>\n",
       "    </tr>\n",
       "    <tr>\n",
       "      <th>1</th>\n",
       "      <td>Net Interprovincial Out-Flows</td>\n",
       "      <td>47302</td>\n",
       "      <td>0.45</td>\n",
       "      <td>Canada</td>\n",
       "    </tr>\n",
       "    <tr>\n",
       "      <th>2</th>\n",
       "      <td>Exports</td>\n",
       "      <td>47302</td>\n",
       "      <td>43527.53</td>\n",
       "      <td>Canada</td>\n",
       "    </tr>\n",
       "    <tr>\n",
       "      <th>3</th>\n",
       "      <td>Net Exports</td>\n",
       "      <td>47302</td>\n",
       "      <td>23850.63</td>\n",
       "      <td>Canada</td>\n",
       "    </tr>\n",
       "    <tr>\n",
       "      <th>4</th>\n",
       "      <td>Imports</td>\n",
       "      <td>47302</td>\n",
       "      <td>19676.90</td>\n",
       "      <td>Canada</td>\n",
       "    </tr>\n",
       "    <tr>\n",
       "      <th>...</th>\n",
       "      <td>...</td>\n",
       "      <td>...</td>\n",
       "      <td>...</td>\n",
       "      <td>...</td>\n",
       "    </tr>\n",
       "    <tr>\n",
       "      <th>2985</th>\n",
       "      <td>Interprovincial Out-Flows</td>\n",
       "      <td>3121</td>\n",
       "      <td>559.76</td>\n",
       "      <td>Saskatchewan</td>\n",
       "    </tr>\n",
       "    <tr>\n",
       "      <th>2986</th>\n",
       "      <td>Net Interprovincial Out-Flows</td>\n",
       "      <td>3121</td>\n",
       "      <td>-2561.77</td>\n",
       "      <td>Saskatchewan</td>\n",
       "    </tr>\n",
       "    <tr>\n",
       "      <th>2987</th>\n",
       "      <td>Exports</td>\n",
       "      <td>3121</td>\n",
       "      <td>130.00</td>\n",
       "      <td>Saskatchewan</td>\n",
       "    </tr>\n",
       "    <tr>\n",
       "      <th>2988</th>\n",
       "      <td>Net Exports</td>\n",
       "      <td>3121</td>\n",
       "      <td>130.00</td>\n",
       "      <td>Saskatchewan</td>\n",
       "    </tr>\n",
       "    <tr>\n",
       "      <th>2989</th>\n",
       "      <td>Imports</td>\n",
       "      <td>3121</td>\n",
       "      <td>0.00</td>\n",
       "      <td>Saskatchewan</td>\n",
       "    </tr>\n",
       "  </tbody>\n",
       "</table>\n",
       "<p>2990 rows × 4 columns</p>\n",
       "</div>"
      ],
      "text/plain": [
       "                        Energy_Type   Year       GWh      Province\n",
       "0         Interprovincial Out-Flows  47302  47303.41        Canada\n",
       "1     Net Interprovincial Out-Flows  47302      0.45        Canada\n",
       "2                           Exports  47302  43527.53        Canada\n",
       "3                       Net Exports  47302  23850.63        Canada\n",
       "4                           Imports  47302  19676.90        Canada\n",
       "...                             ...    ...       ...           ...\n",
       "2985      Interprovincial Out-Flows   3121    559.76  Saskatchewan\n",
       "2986  Net Interprovincial Out-Flows   3121  -2561.77  Saskatchewan\n",
       "2987                        Exports   3121    130.00  Saskatchewan\n",
       "2988                    Net Exports   3121    130.00  Saskatchewan\n",
       "2989                        Imports   3121      0.00  Saskatchewan\n",
       "\n",
       "[2990 rows x 4 columns]"
      ]
     },
     "metadata": {},
     "output_type": "display_data"
    }
   ],
   "source": [
    "# Im gonna reuse the same function as well\n",
    "print(\"Total rows in interchange_df:\", len(interchange_df))\n",
    "provinces_interchange = {\n",
    "    \"Canada\": 5,\n",
    "    \"Newfoundland and Labrador\": 14,\n",
    "    \"Prince Edward Island\": 23,\n",
    "    \"Nova Scotia\": 32,\n",
    "    \"New Brunswick\": 41,\n",
    "    \"Quebec\": 50,\n",
    "    \"Ontario\": 59,\n",
    "    \"Manitoba\": 68,\n",
    "    \"Alberta\": 77,\n",
    "    \"British Columbia\": 86,\n",
    "    \"Saskatchewan\": 95,\n",
    "}\n",
    "\n",
    "all_province_interchange_data = []\n",
    "for province, start_row in provinces_interchange.items():\n",
    "    clean_interchange_block = clean_generation(interchange_df, start_row, province)\n",
    "    all_province_interchange_data.append(clean_interchange_block)\n",
    "\n",
    "interchange_clean = pd.concat(all_province_interchange_data, ignore_index=True)\n",
    "# display(interchange_clean)\n",
    "\n",
    "\n"
   ]
  },
  {
   "cell_type": "markdown",
   "metadata": {},
   "source": [
    "### Population Data Set Cleaning"
   ]
  },
  {
   "cell_type": "code",
   "execution_count": 257,
   "metadata": {},
   "outputs": [
    {
     "name": "stdout",
     "output_type": "stream",
     "text": [
      "Index(['Release date: 2025-03-19'], dtype='object')\n"
     ]
    },
    {
     "data": {
      "application/vnd.microsoft.datawrangler.viewer.v0+json": {
       "columns": [
        {
         "name": "index",
         "rawType": "int64",
         "type": "integer"
        },
        {
         "name": "Release date: 2025-03-19",
         "rawType": "object",
         "type": "string"
        }
       ],
       "conversionMethod": "pd.DataFrame",
       "ref": "e352bb08-4dcf-4b76-83c1-45023b08bfba",
       "rows": [
        [
         "0",
         "Geography: Canada, Province or territory"
        ],
        [
         "1",
         "Footnotes:"
        ],
        [
         "2",
         "How to cite: Statistics Canada. Table 17-10-0009-01  Population estimates, quarterly"
        ],
        [
         "3",
         "https://www150.statcan.gc.ca/t1/tbl1/en/tv.action?pid=1710000901"
        ]
       ],
       "shape": {
        "columns": 1,
        "rows": 4
       }
      },
      "text/html": [
       "<div>\n",
       "<style scoped>\n",
       "    .dataframe tbody tr th:only-of-type {\n",
       "        vertical-align: middle;\n",
       "    }\n",
       "\n",
       "    .dataframe tbody tr th {\n",
       "        vertical-align: top;\n",
       "    }\n",
       "\n",
       "    .dataframe thead th {\n",
       "        text-align: right;\n",
       "    }\n",
       "</style>\n",
       "<table border=\"1\" class=\"dataframe\">\n",
       "  <thead>\n",
       "    <tr style=\"text-align: right;\">\n",
       "      <th></th>\n",
       "      <th>Release date: 2025-03-19</th>\n",
       "    </tr>\n",
       "  </thead>\n",
       "  <tbody>\n",
       "    <tr>\n",
       "      <th>0</th>\n",
       "      <td>Geography: Canada, Province or territory</td>\n",
       "    </tr>\n",
       "    <tr>\n",
       "      <th>1</th>\n",
       "      <td>Footnotes:</td>\n",
       "    </tr>\n",
       "    <tr>\n",
       "      <th>2</th>\n",
       "      <td>How to cite: Statistics Canada. Table 17-10-00...</td>\n",
       "    </tr>\n",
       "    <tr>\n",
       "      <th>3</th>\n",
       "      <td>https://www150.statcan.gc.ca/t1/tbl1/en/tv.act...</td>\n",
       "    </tr>\n",
       "  </tbody>\n",
       "</table>\n",
       "</div>"
      ],
      "text/plain": [
       "                            Release date: 2025-03-19\n",
       "0           Geography: Canada, Province or territory\n",
       "1                                         Footnotes:\n",
       "2  How to cite: Statistics Canada. Table 17-10-00...\n",
       "3  https://www150.statcan.gc.ca/t1/tbl1/en/tv.act..."
      ]
     },
     "metadata": {},
     "output_type": "display_data"
    },
    {
     "data": {
      "application/vnd.microsoft.datawrangler.viewer.v0+json": {
       "columns": [
        {
         "name": "index",
         "rawType": "int64",
         "type": "integer"
        },
        {
         "name": "Province",
         "rawType": "object",
         "type": "string"
        },
        {
         "name": "Year",
         "rawType": "int64",
         "type": "integer"
        },
        {
         "name": "Population",
         "rawType": "float64",
         "type": "float"
        }
       ],
       "conversionMethod": "pd.DataFrame",
       "ref": "cd8eab00-8c9b-4e67-b7db-0c01584c21de",
       "rows": [],
       "shape": {
        "columns": 3,
        "rows": 0
       }
      },
      "text/html": [
       "<div>\n",
       "<style scoped>\n",
       "    .dataframe tbody tr th:only-of-type {\n",
       "        vertical-align: middle;\n",
       "    }\n",
       "\n",
       "    .dataframe tbody tr th {\n",
       "        vertical-align: top;\n",
       "    }\n",
       "\n",
       "    .dataframe thead th {\n",
       "        text-align: right;\n",
       "    }\n",
       "</style>\n",
       "<table border=\"1\" class=\"dataframe\">\n",
       "  <thead>\n",
       "    <tr style=\"text-align: right;\">\n",
       "      <th></th>\n",
       "      <th>Province</th>\n",
       "      <th>Year</th>\n",
       "      <th>Population</th>\n",
       "    </tr>\n",
       "  </thead>\n",
       "  <tbody>\n",
       "  </tbody>\n",
       "</table>\n",
       "</div>"
      ],
      "text/plain": [
       "Empty DataFrame\n",
       "Columns: [Province, Year, Population]\n",
       "Index: []"
      ]
     },
     "execution_count": 257,
     "metadata": {},
     "output_type": "execute_result"
    }
   ],
   "source": [
    "print(population_df.columns[:5])\n",
    "display(population_df.head())\n",
    "def cleanPopulation(df):\n",
    "\n",
    "    df = df.rename(columns={df.columns[0]: \"Province\"})\n",
    "    df = df[~df[\"Province\"].isna()]\n",
    "\n",
    "    df_long = df.melt(id_vars=\"Province\", var_name=\"Quarter\", value_name=\"Population\")\n",
    "    df_long[\"Year\"] = df_long[\"Quarter\"].str.extract(r\"(\\d{4})\")\n",
    "    df_long = df_long.dropna(subset=[\"Year\"])\n",
    "    df_long[\"Year\"] = df_long[\"Year\"].astype(int)\n",
    "\n",
    "    df_long[\"Population\"] = df_long[\"Population\"].replace(\",\", \"\", regex=True).astype(float)\n",
    "    df_yearly = (\n",
    "        df_long.groupby([\"Province\", \"Year\"], as_index=False)\n",
    "        .agg({\"Population\": \"mean\"})\n",
    "    )\n",
    "\n",
    "    return df_yearly\n",
    "\n",
    "population_yearly_df = cleanPopulation(population_df)\n",
    "\n",
    "population_yearly_df"
   ]
  }
 ],
 "metadata": {
  "kernelspec": {
   "display_name": ".venv",
   "language": "python",
   "name": "python3"
  },
  "language_info": {
   "codemirror_mode": {
    "name": "ipython",
    "version": 3
   },
   "file_extension": ".py",
   "mimetype": "text/x-python",
   "name": "python",
   "nbconvert_exporter": "python",
   "pygments_lexer": "ipython3",
   "version": "3.13.1"
  }
 },
 "nbformat": 4,
 "nbformat_minor": 2
}
